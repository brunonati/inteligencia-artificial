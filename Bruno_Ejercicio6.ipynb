{
 "cells": [
  {
   "cell_type": "markdown",
   "metadata": {
    "deletable": true,
    "editable": true
   },
   "source": [
    "# Ejercicio 6 - Introducción al Aprendizaje No Supervizado\n",
    "## Inteligencia Artificial - Ing. en Sistemas de Información \n",
    "## UTN Facultad Regional Villa Maria\n",
    "### Natalia Bruno - Legajo: 10683"
   ]
  },
  {
   "cell_type": "markdown",
   "metadata": {
    "deletable": true,
    "editable": true
   },
   "source": [
    "1. Tomar el dataset seleccionado para el ejercicio de la clase pasada y hacerle un PCA. Mostrar cómo está explicada la varianza en base a los distintos componentes principales.\n",
    "2. Mostrar gráficamente cómo el primer y el segundo componente principal describen la varianza de los datos (hacer un gráfico similar al mostrado en esta clase con el Iris dataset pero para el nuevo dataset).\n",
    "3. Entrenar nuevamente uno de los clasificadores seleccionados para el ejercicio pasado para un conjunto de componentes principales que considere conveniente, utilizando la correspondiente semilla de random_state. Mostrar cuánto difiere la tasa de aciertos con respecto al modelo utilizado en el ejercicio anterior. (Nota: la cantidad de componentes utilizada debe ser menor a la cantidad de features del conjunto original).\n",
    "4. Responder: bajo su criterio, ¿se justifica realizar la transformación de los features con PCA para el dataset seleccionado? Explicar por qué; en caso afirmativo, ¿cuántos componentes principales seleccionaría y por qué?\n",
    "\n",
    "Fecha de entrega: **24/05/2017**"
   ]
  },
  {
   "cell_type": "code",
   "execution_count": 1,
   "metadata": {
    "collapsed": false,
    "deletable": true,
    "editable": true
   },
   "outputs": [],
   "source": [
    "# Defino una semilla que corresponde a mi número de alumno\n",
    "import numpy as np\n",
    "semilla = 2"
   ]
  },
  {
   "cell_type": "code",
   "execution_count": 2,
   "metadata": {
    "collapsed": true,
    "deletable": true,
    "editable": true
   },
   "outputs": [],
   "source": [
    "import pandas as pd\n",
    "\n",
    "# Cargo el dataset del ejercicio anterior mediante Pandas\n",
    "data = pd.read_csv('glass.csv')\n",
    "\n",
    "# Divido el dataset en features y target\n",
    "y = data['Type']\n",
    "x = data[['RI','Na','Mg','Al','Si','K','Ca','Ba','Fe']]\n"
   ]
  },
  {
   "cell_type": "markdown",
   "metadata": {
    "deletable": true,
    "editable": true
   },
   "source": [
    "### Punto 1"
   ]
  },
  {
   "cell_type": "code",
   "execution_count": 3,
   "metadata": {
    "collapsed": false,
    "deletable": true,
    "editable": true
   },
   "outputs": [
    {
     "name": "stdout",
     "output_type": "stream",
     "text": [
      "PCA(copy=True, iterated_power='auto', n_components=None, random_state=2,\n",
      "  svd_solver='auto', tol=0.0, whiten=False)\n",
      "[  2.51116373e+00   2.05007218e+00   1.40484399e+00   1.15786245e+00\n",
      "   9.14002247e-01   5.27635193e-01   3.68958443e-01   6.38529478e-02\n",
      "   1.60881782e-03]\n"
     ]
    }
   ],
   "source": [
    "from sklearn.decomposition import PCA\n",
    "from sklearn.preprocessing import scale\n",
    "\n",
    "#Dado que no se indica el numero de n_componentes todos los componentes se mantienen.\n",
    "pca = PCA(random_state=semilla) \n",
    "print(pca)\n",
    "\n",
    "# Antes de transformar los datos, los normalizo,\n",
    "# Respecto a la media 0 y la desv. estándar 1\n",
    "X_scaled = scale(x)\n",
    "pca.fit(X_scaled)\n",
    "\n",
    "# X_transformed son los datos X transformados linealmente con respecto a los componentes principales\n",
    "X_transformed = pca.transform(X_scaled)\n",
    "\n",
    "# Podemos ver los vectores de componentes de PCA...\n",
    "# print('Componentes de PCA (ordenados desc. desde el 1° hasta el 9no vector): \\n\\n', pca.components_) \n",
    "\n",
    "# Notar que, por la restricción de la ortogonalidad, la máxima\n",
    "# cantidad de componentes principales es la de los features de X\n",
    "print(pca.explained_variance_)"
   ]
  },
  {
   "cell_type": "code",
   "execution_count": 5,
   "metadata": {
    "collapsed": false,
    "deletable": true,
    "editable": true
   },
   "outputs": [
    {
     "data": {
      "image/png": "[encoded data removed]",
      "text/plain": [
       "<matplotlib.figure.Figure at 0x825bf90>"
      ]
     },
     "metadata": {},
     "output_type": "display_data"
    }
   ],
   "source": [
    "import matplotlib.pyplot as plt\n",
    "# Visualizamos cuánto es explicada la varianza\n",
    "# por cada uno de los componentes principales\n",
    "\n",
    "y_pos = np.arange(9)\n",
    "\n",
    "# pca.explained_variance_ratio_ es quien nos devuelve el gráfico de la varianza\n",
    "var_exp = pca.explained_variance_ratio_\n",
    "\n",
    "plt.bar(y_pos, np.round(100 * var_exp, decimals=1), align='center', alpha=0.5)\n",
    "\n",
    "plt.xticks(y_pos, [1,2,3,4,5,6,7,8,9])\n",
    "plt.xlabel('N° de Componente Principal')\n",
    "plt.ylabel('Varianza')\n",
    "plt.title('Varianza explicada por cada componente')\n",
    "plt.show()"
   ]
  },
  {
   "cell_type": "code",
   "execution_count": 6,
   "metadata": {
    "collapsed": false,
    "deletable": true,
    "editable": true
   },
   "outputs": [
    {
     "name": "stdout",
     "output_type": "stream",
     "text": [
      "[ 27.9  22.8  15.6  12.9  10.2   5.9   4.1   0.7   0. ]\n"
     ]
    }
   ],
   "source": [
    "print(np.round(100 * var_exp, decimals=1))"
   ]
  },
  {
   "cell_type": "code",
   "execution_count": 7,
   "metadata": {
    "collapsed": false,
    "deletable": true,
    "editable": true
   },
   "outputs": [
    {
     "name": "stdout",
     "output_type": "stream",
     "text": [
      "PC1 Variación acumulada: 27.902%\n",
      "PC2 Variación acumulada: 50.680%\n",
      "PC3 Variación acumulada: 66.290%\n",
      "PC4 Variación acumulada: 79.155%\n",
      "PC5 Variación acumulada: 89.310%\n",
      "PC6 Variación acumulada: 95.173%\n",
      "PC7 Variación acumulada: 99.273%\n",
      "PC8 Variación acumulada: 99.982%\n",
      "PC9 Variación acumulada: 100.000%\n"
     ]
    }
   ],
   "source": [
    "cum_var_exp = np.cumsum(var_exp) \n",
    "# Cumulative variance explained\n",
    "for i, sum in enumerate(cum_var_exp):\n",
    "    print(\"PC\" + str(i+1), \"Variación acumulada: %.3f% %\" %(cum_var_exp[i]*100))"
   ]
  },
  {
   "cell_type": "markdown",
   "metadata": {
    "deletable": true,
    "editable": true
   },
   "source": [
    "Se puede observar que cerca del 90% de la varianza se puede explicar con los primeros 5 componentes principales."
   ]
  },
  {
   "cell_type": "markdown",
   "metadata": {
    "deletable": true,
    "editable": true
   },
   "source": [
    "### Punto 2"
   ]
  },
  {
   "cell_type": "code",
   "execution_count": 9,
   "metadata": {
    "collapsed": false,
    "deletable": true,
    "editable": true
   },
   "outputs": [
    {
     "data": {
      "image/png": "[encoded data removed]",
      "text/plain": [
       "<matplotlib.figure.Figure at 0xd8b610>"
      ]
     },
     "metadata": {},
     "output_type": "display_data"
    }
   ],
   "source": [
    "plt.figure(figsize=(8,6))\n",
    "\n",
    "# El dataset elegido para el ejercicio tiene 7 targets por lo que repetimos la impresion para cada uno de ellos.\n",
    "\n",
    "plot = plt.scatter(X_transformed[y==0, 0], X_transformed[y==0, 1], label=1, color='orange')\n",
    "plot = plt.scatter(X_transformed[y==1, 0], X_transformed[y==1, 1], label=2, color='blue')\n",
    "plot = plt.scatter(X_transformed[y==2, 0], X_transformed[y==2, 1], label=3, color='green')\n",
    "plot = plt.scatter(X_transformed[y==3, 0], X_transformed[y==3, 1], label=4, color='red')\n",
    "plot = plt.scatter(X_transformed[y==4, 0], X_transformed[y==4, 1], label=5, color='yellow')\n",
    "plot = plt.scatter(X_transformed[y==5, 0], X_transformed[y==5, 1], label=6, color='black')\n",
    "plot = plt.scatter(X_transformed[y==6, 0], X_transformed[y==6, 1], label=7, color='purple')\n",
    "\n",
    "\n",
    "plt.xlabel('Valor del Primer Componente Principal')\n",
    "plt.ylabel('Valor del Segundo Componente Principal')\n",
    "plt.legend(loc='best', numpoints=1)\n",
    "plt.show()"
   ]
  },
  {
   "cell_type": "markdown",
   "metadata": {
    "deletable": true,
    "editable": true
   },
   "source": [
    "## Punto 3\n",
    "\n",
    "Teniendo en cuenta los resultados obtenidos en el punto 2, quedando demostrado que la varianza de los datos queda explicada casi por los primeros 5 componentes principales, probé entrenar el clasificador con los 5, 4 y 3 primeros componentes, eligiendo los 4 primeros ya que con este número de componentes es donde obtuve la mayor tasa de aciertos. "
   ]
  },
  {
   "cell_type": "code",
   "execution_count": 10,
   "metadata": {
    "collapsed": false,
    "deletable": true,
    "editable": true
   },
   "outputs": [
    {
     "data": {
      "image/png": "[encoded data removed]",
      "text/plain": [
       "<matplotlib.figure.Figure at 0xe47ad0>"
      ]
     },
     "metadata": {},
     "output_type": "display_data"
    }
   ],
   "source": [
    "pca = PCA(n_components=4)\n",
    "\n",
    "X_scaled = scale(x)\n",
    "pca.fit(X_scaled)\n",
    "X_transformed_principales = pca.transform(X_scaled)\n",
    "\n",
    "y_pos = np.arange(4)\n",
    "var_exp = pca.explained_variance_ratio_\n",
    "\n",
    "plt.bar(y_pos, np.round(100 * var_exp, decimals=1), align='center', alpha=0.5)\n",
    "\n",
    "plt.xticks(y_pos, [1,2,3,4])\n",
    "plt.xlabel('N° de Componente Principal')\n",
    "plt.ylabel('Varianza')\n",
    "plt.title('Varianza explicada por cada componente')\n",
    "plt.show()"
   ]
  },
  {
   "cell_type": "code",
   "execution_count": 12,
   "metadata": {
    "collapsed": false,
    "deletable": true,
    "editable": true
   },
   "outputs": [
    {
     "name": "stdout",
     "output_type": "stream",
     "text": [
      "0.703703703704\n",
      "Mean score = 0.704, Std deviation = 0.000\n"
     ]
    }
   ],
   "source": [
    "from sklearn import svm\n",
    "from sklearn.svm import SVC\n",
    "from sklearn.model_selection import train_test_split\n",
    "\n",
    "clf_svm = SVC(random_state=semilla)\n",
    "\n",
    "# Divido el conjunto en train, test\n",
    "X_train, X_test, y_train, y_test = train_test_split(X_transformed_principales, y, test_size=0.25,  random_state=semilla)\n",
    "\n",
    "# Entreno el modelo con el sub-conjunto de datos de entrenamiento\n",
    "clf_svm.fit(X_train, y_train)\n",
    "y_hat_svm = clf_svm.predict(X_test)\n",
    "\n",
    "# Muestro el porcentaje de aciertos del clasificador\n",
    "score_svm = clf_svm.score(X_test,y_test)\n",
    "\n",
    "print(score_svm)\n",
    "print(\"Mean score = %.3f, Std deviation = %.3f\"%(np.mean(score_svm),np.std(score_svm)))"
   ]
  },
  {
   "cell_type": "markdown",
   "metadata": {
    "deletable": true,
    "editable": true
   },
   "source": [
    "## Punto 3\n",
    "\n",
    "En mi caso, el dataset utilizado no es demasiado grande por lo que el costo computacional que implica el procesamiento de los datos sin transformación no es un criterio relevante para decidir si aplicar PCA o no. Sin embargo, podemos ver que al aplicar PCA y reducir el número de componentes principales, la tasa de aciertos aumenta, esto es debido a que los datos estan correlacionados y de esta manera estamos eliminando el ruido que esto genera. Al ir reduciendo la dimensionalidad del dataset comprobé que la tasa de aciertos aumenta obteniendo el mayor valor con 4 dimensiones pero a partir de ese punto si continúo disminuyendo los componentes principales la tasa de aciertos se reduce también.\n",
    "\n",
    "Por lo que concluyo, SI se justifica realizar la transformación de los features con PCA y la cantidad de componentes principales que selecciono es 4."
   ]
  },
  {
   "cell_type": "code",
   "execution_count": null,
   "metadata": {
    "collapsed": true,
    "deletable": true,
    "editable": true
   },
   "outputs": [],
   "source": []
  }
 ],
 "metadata": {
  "kernelspec": {
   "display_name": "Python 3",
   "language": "python",
   "name": "python3"
  },
  "language_info": {
   "codemirror_mode": {
    "name": "ipython",
    "version": 3
   },
   "file_extension": ".py",
   "mimetype": "text/x-python",
   "name": "python",
   "nbconvert_exporter": "python",
   "pygments_lexer": "ipython3",
   "version": "3.6.1"
  }
 },
 "nbformat": 4,
 "nbformat_minor": 2
}
