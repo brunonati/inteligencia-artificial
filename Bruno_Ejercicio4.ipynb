{
 "cells": [
  {
   "cell_type": "markdown",
   "metadata": {
    "deletable": true,
    "editable": true
   },
   "source": [
    "# Ejercicio 4 - Aprendizaje Supervizado Clasificacion Parte I\n",
    "## Inteligencia Artificial - Ing. en Sistemas de Información \n",
    "## UTN Facultad Regional Villa Maria\n",
    "### Natalia Bruno - Legajo: 10683"
   ]
  },
  {
   "cell_type": "markdown",
   "metadata": {
    "deletable": true,
    "editable": true
   },
   "source": [
    "1. Declarar una variable random_state igual al número de alumno en la hoja de cálculo \"Entregas TPs\" en el Google Drive de la materia.\n",
    "2. Implementar un clasificador kNN.\n",
    "3. Aplicarle z-score standarization a los datos. Dividir en conjunto de train y test y entrenar el clasificador con el sub-conjunto de datos de entrenamiento, mostrando el correspondiente error de test. Utilizar el correspondiente random_state.\n",
    "4. Considere el caso donde un incorrecto diagnóstico de cáncer cuando la célula es benigna tiene un costo de 5, mientras que una errónea omisión de una célula maligna tiene un costo de 20. Modificar las salidas del clasificador para que el mismo realice la mayor reducción posible del costo por errores de clasificación, e imprimir dichas salidas. Ayuda: una forma es utilizar el método predicted_proba() para obtener las probabilidades.\n",
    "5. Considerando el punto anterior, ampliar el código para que seleccione automáticamente o mediante iteraciones la cantidad de vecinos que minimiza el costo. Especificar cuál es el costo mínimo obtenido tras dicha minimización.\n",
    "\n",
    "Fecha de entrega: 17/05/2017.\n",
    "Nota: la resolución de los ejercicios es **individual**; en el caso de que dos ejercicios enviados contengan un código igual o muy similar (sin considerar los comentarios), se los considerará a ambos como desaprobados. La reutilización del código del notebook está permitida (por ejemplo para confeccionar gráficos)."
   ]
  },
  {
   "cell_type": "code",
   "execution_count": 26,
   "metadata": {
    "collapsed": false,
    "deletable": true,
    "editable": true
   },
   "outputs": [
    {
     "name": "stdout",
     "output_type": "stream",
     "text": [
      "['malignant' 'benign']\n"
     ]
    }
   ],
   "source": [
    "# Punto 1: declaro una variable random_state con mi numero de alumno.\n",
    "import numpy as np\n",
    "rns = np.random.RandomState(2)\n",
    "\n",
    "import matplotlib.pyplot as plt\n",
    "from sklearn.datasets import load_breast_cancer\n",
    "\n",
    "data = load_breast_cancer()\n",
    "\n",
    "X = data.data\n",
    "y = data.target\n",
    "\n",
    "# Las clases pueden ser de dos tipos:\n",
    "# 0= maligno\n",
    "# 1= benigno\n",
    "print(data.target_names)"
   ]
  },
  {
   "cell_type": "code",
   "execution_count": 27,
   "metadata": {
    "collapsed": false,
    "deletable": true,
    "editable": true
   },
   "outputs": [],
   "source": [
    "# Punto 2: Implemento un clasificador kNN\n",
    "from sklearn import neighbors\n",
    "clf = neighbors.KNeighborsClassifier(n_neighbors=10, weights='distance')\n",
    "\n",
    "# Punto 3: Aplico z-score standarization para normalizar los datos\n",
    "from scipy import stats\n",
    "X_s = stats.zscore(X)"
   ]
  },
  {
   "cell_type": "code",
   "execution_count": 28,
   "metadata": {
    "collapsed": false,
    "deletable": true,
    "editable": true
   },
   "outputs": [
    {
     "name": "stdout",
     "output_type": "stream",
     "text": [
      "Porcentaje de aciertos en la clasificación:  0.973684210526\n"
     ]
    }
   ],
   "source": [
    "from sklearn.model_selection import train_test_split\n",
    "\n",
    "# Divido el conjunto en train, test\n",
    "X_train, X_test, y_train, y_test = train_test_split(X_s, y, random_state= rns, test_size=0.2)\n",
    "\n",
    "# Entreno el modelo con el sub-conjunto de datos de entrenamiento\n",
    "clf.fit(X_train,y_train)\n",
    "y_hat = clf.predict(X_test)\n",
    "\n",
    "# Muestro el porcentaje de aciertos del clasificador\n",
    "print('Porcentaje de aciertos en la clasificación: ', clf.score(X_test,y_test))\n",
    "\n",
    "# Porcentaje de error de test\n",
    "#print('Porcentaje de error del test: ', 1-clf.score(X_test,y_test))"
   ]
  },
  {
   "cell_type": "code",
   "execution_count": 29,
   "metadata": {
    "collapsed": false,
    "deletable": true,
    "editable": true
   },
   "outputs": [
    {
     "name": "stdout",
     "output_type": "stream",
     "text": [
      "[[ 0.09357873  0.90642127]\n",
      " [ 0.09670674  0.90329326]\n",
      " [ 0.          1.        ]\n",
      " [ 1.          0.        ]\n",
      " [ 0.29628112  0.70371888]\n",
      " [ 1.          0.        ]\n",
      " [ 0.          1.        ]\n",
      " [ 0.          1.        ]\n",
      " [ 0.          1.        ]\n",
      " [ 0.          1.        ]\n",
      " [ 0.6368718   0.3631282 ]\n",
      " [ 0.11844013  0.88155987]\n",
      " [ 0.09596165  0.90403835]\n",
      " [ 0.          1.        ]\n",
      " [ 0.          1.        ]\n",
      " [ 1.          0.        ]\n",
      " [ 0.          1.        ]\n",
      " [ 0.          1.        ]\n",
      " [ 0.          1.        ]\n",
      " [ 1.          0.        ]\n",
      " [ 0.27112487  0.72887513]\n",
      " [ 0.          1.        ]\n",
      " [ 0.          1.        ]\n",
      " [ 0.          1.        ]\n",
      " [ 0.          1.        ]\n",
      " [ 1.          0.        ]\n",
      " [ 0.          1.        ]\n",
      " [ 0.21342515  0.78657485]\n",
      " [ 1.          0.        ]\n",
      " [ 1.          0.        ]\n",
      " [ 0.          1.        ]\n",
      " [ 0.          1.        ]\n",
      " [ 0.          1.        ]\n",
      " [ 1.          0.        ]\n",
      " [ 1.          0.        ]\n",
      " [ 0.08676328  0.91323672]\n",
      " [ 0.          1.        ]\n",
      " [ 0.10778833  0.89221167]\n",
      " [ 0.          1.        ]\n",
      " [ 0.          1.        ]\n",
      " [ 1.          0.        ]\n",
      " [ 1.          0.        ]\n",
      " [ 0.          1.        ]\n",
      " [ 0.          1.        ]\n",
      " [ 0.91137031  0.08862969]\n",
      " [ 0.          1.        ]\n",
      " [ 0.          1.        ]\n",
      " [ 0.          1.        ]\n",
      " [ 1.          0.        ]\n",
      " [ 1.          0.        ]\n",
      " [ 0.          1.        ]\n",
      " [ 0.74396541  0.25603459]\n",
      " [ 0.30841041  0.69158959]\n",
      " [ 0.          1.        ]\n",
      " [ 0.          1.        ]\n",
      " [ 0.21237772  0.78762228]\n",
      " [ 0.14565209  0.85434791]\n",
      " [ 0.          1.        ]\n",
      " [ 1.          0.        ]\n",
      " [ 0.          1.        ]\n",
      " [ 0.09776064  0.90223936]\n",
      " [ 1.          0.        ]\n",
      " [ 0.          1.        ]\n",
      " [ 1.          0.        ]\n",
      " [ 1.          0.        ]\n",
      " [ 0.18787553  0.81212447]\n",
      " [ 1.          0.        ]\n",
      " [ 1.          0.        ]\n",
      " [ 0.09370955  0.90629045]\n",
      " [ 0.8179045   0.1820955 ]\n",
      " [ 0.72441067  0.27558933]\n",
      " [ 1.          0.        ]\n",
      " [ 0.          1.        ]\n",
      " [ 1.          0.        ]\n",
      " [ 0.          1.        ]\n",
      " [ 1.          0.        ]\n",
      " [ 0.          1.        ]\n",
      " [ 0.          1.        ]\n",
      " [ 0.          1.        ]\n",
      " [ 0.72170221  0.27829779]\n",
      " [ 1.          0.        ]\n",
      " [ 1.          0.        ]\n",
      " [ 1.          0.        ]\n",
      " [ 0.08583018  0.91416982]\n",
      " [ 0.          1.        ]\n",
      " [ 0.394149    0.605851  ]\n",
      " [ 0.          1.        ]\n",
      " [ 0.          1.        ]\n",
      " [ 0.18329708  0.81670292]\n",
      " [ 1.          0.        ]\n",
      " [ 0.          1.        ]\n",
      " [ 0.10415226  0.89584774]\n",
      " [ 0.          1.        ]\n",
      " [ 1.          0.        ]\n",
      " [ 1.          0.        ]\n",
      " [ 0.          1.        ]\n",
      " [ 1.          0.        ]\n",
      " [ 1.          0.        ]\n",
      " [ 0.09094863  0.90905137]\n",
      " [ 0.          1.        ]\n",
      " [ 0.          1.        ]\n",
      " [ 0.9115315   0.0884685 ]\n",
      " [ 1.          0.        ]\n",
      " [ 1.          0.        ]\n",
      " [ 0.10511524  0.89488476]\n",
      " [ 0.          1.        ]\n",
      " [ 0.          1.        ]\n",
      " [ 0.          1.        ]\n",
      " [ 0.          1.        ]\n",
      " [ 0.          1.        ]\n",
      " [ 1.          0.        ]\n",
      " [ 1.          0.        ]\n",
      " [ 0.41195404  0.58804596]\n",
      " [ 1.          0.        ]]\n"
     ]
    }
   ],
   "source": [
    "# Punto 4:\n",
    "\n",
    "# Obtenemos en una martiz las probabilidades de que una celula sea clasificada como maligna o benigna.\n",
    "# Para cada muestra (renglon i)\n",
    "# Columna 0 = probabilidad de ser clasificada como maligna\n",
    "# Columna 1 = probabilidad de ser clasificada como beningna\n",
    "\n",
    "pred_pro = clf.predict_proba(X_test)\n",
    "print(pred_pro)"
   ]
  },
  {
   "cell_type": "code",
   "execution_count": 30,
   "metadata": {
    "collapsed": false,
    "deletable": true,
    "editable": true
   },
   "outputs": [
    {
     "name": "stdout",
     "output_type": "stream",
     "text": [
      "El costo de errores de clasificacion es: 35 \n",
      "Confusion Matrix: \n",
      " [[38  7]\n",
      " [ 0 69]]\n"
     ]
    }
   ],
   "source": [
    "#Teniendo en cuenta los costos de los falsos negativos (FN) y falsos positivos (FP) modifico las salidas del clasificador\n",
    "FN = 20\n",
    "FP = 5\n",
    "\n",
    "from sklearn import metrics\n",
    "\n",
    "y_hat_modificado = [] #defino un nuevo vector para guardar las nuevas salidas de clasificador\n",
    "\n",
    "for i in range(len(pred_pro)):\n",
    "    \n",
    "    if pred_pro[i][1] > ((0.25) * pred_pro[i][0]):\n",
    "        y_hat_modificado.append(1)\n",
    "    else:\n",
    "        y_hat_modificado.append(0)\n",
    "   \n",
    "error_matrix = metrics.confusion_matrix(y_test, y_hat_modificado)\n",
    "costoFP = error_matrix[1][0] * FN\n",
    "costoFN = error_matrix[0][1] * FP\n",
    "\n",
    "costo_total = costoFP + costoFN\n",
    "        \n",
    "print('El costo de errores de clasificacion es: {} \\nConfusion Matrix: \\n {}'.format(costo_total, error_matrix))"
   ]
  },
  {
   "cell_type": "code",
   "execution_count": 31,
   "metadata": {
    "collapsed": false,
    "deletable": true,
    "editable": true
   },
   "outputs": [
    {
     "name": "stdout",
     "output_type": "stream",
     "text": [
      "[1, 1, 1, 0, 1, 0, 1, 1, 1, 1, 1, 1, 1, 1, 1, 0, 1, 1, 1, 0, 1, 1, 1, 1, 1, 0, 1, 1, 0, 0, 1, 1, 1, 0, 0, 1, 1, 1, 1, 1, 0, 0, 1, 1, 0, 1, 1, 1, 0, 0, 1, 1, 1, 1, 1, 1, 1, 1, 0, 1, 1, 0, 1, 0, 0, 1, 0, 0, 1, 0, 1, 0, 1, 0, 1, 0, 1, 1, 1, 1, 0, 0, 0, 1, 1, 1, 1, 1, 1, 0, 1, 1, 1, 0, 0, 1, 0, 0, 1, 1, 1, 0, 0, 0, 1, 1, 1, 1, 1, 1, 0, 0, 1, 0]\n"
     ]
    }
   ],
   "source": [
    "print(y_hat_modificado) #Imprimo la salida del clasificador modificado"
   ]
  },
  {
   "cell_type": "code",
   "execution_count": 32,
   "metadata": {
    "collapsed": false,
    "deletable": true,
    "editable": true
   },
   "outputs": [
    {
     "name": "stdout",
     "output_type": "stream",
     "text": [
      "[ 0  0  0  0  0  0  0  0  0  0 -1  0  0  0  0  0  0  0  0  0  0  0  0  0  0\n",
      "  0  0  0  0  0  0  0  0  0  0  0  0  0  0  0  0  0  0  0  0  0  0  0  0  0\n",
      "  0 -1  0  0  0  0  0  0  0  0  0  0  0  0  0  0  0  0  0  0 -1  0  0  0  0\n",
      "  0  0  0  0 -1  0  0  0  0  0  0  0  0  0  0  0  0  0  0  0  0  0  0  0  0\n",
      "  0  0  0  0  0  0  0  0  0  0  0  0  0  0]\n"
     ]
    }
   ],
   "source": [
    "#realizo la resta para poder observar de manera mas clara cuales son las muestras a las q se le cambio su clasificacion\n",
    "print(y_hat - y_hat_modificado) "
   ]
  },
  {
   "cell_type": "code",
   "execution_count": 35,
   "metadata": {
    "collapsed": false,
    "deletable": true,
    "editable": true
   },
   "outputs": [
    {
     "name": "stdout",
     "output_type": "stream",
     "text": [
      "Numero de K vecinos que minimizan el costo de error de prediccion: 2 \n",
      "El costo de error de prediccion es: 20 \n",
      "Confusion Matrix:\n",
      " [[31  4]\n",
      " [ 0 79]]\n"
     ]
    }
   ],
   "source": [
    "# Punto 5\n",
    "\n",
    "costo_error_prediccion = []\n",
    "confusion_matrix = []\n",
    "\n",
    "for k in range(1, X_train.shape[0]):\n",
    "    data = load_breast_cancer()\n",
    "\n",
    "    X = data.data\n",
    "    y = data.target\n",
    "    \n",
    "    clf = neighbors.KNeighborsClassifier(n_neighbors=k, weights='distance')\n",
    "    \n",
    "    X_s = stats.zscore(X)\n",
    "    \n",
    "    X_train, X_test, y_train, y_test = train_test_split(X_s, y, random_state= rns, test_size=0.2)\n",
    "    clf.fit(X_train,y_train)\n",
    "    y_hat = clf.predict(X_test)\n",
    "    \n",
    "    pred_pro = clf.predict_proba(X_test)\n",
    "    \n",
    "    y_hat_modificado = []\n",
    "\n",
    "    for i in range(len(pred_pro)):\n",
    "    \n",
    "        if pred_pro[i][1] > ((0.25) * pred_pro[i][0]):\n",
    "            y_hat_modificado.append(1)\n",
    "        else:\n",
    "            y_hat_modificado.append(0)\n",
    "   \n",
    "    error_matrix = metrics.confusion_matrix(y_test, y_hat_modificado)\n",
    "    costoFP = error_matrix[1][0] * FN\n",
    "    costoFN = error_matrix[0][1] * FP\n",
    "\n",
    "    costo = costoFP + costoFN\n",
    "    \n",
    "    costo_error_prediccion.append(costo)\n",
    "    confusion_matrix.append(error_matrix)\n",
    "    \n",
    "costo_min_error_pred = min(costo_error_prediccion)\n",
    "indice_min = costo_error_prediccion.index(costo_min_error_pred)+1\n",
    "\n",
    "print('Numero de K vecinos que minimizan el costo de error de prediccion: {} \\nEl costo de error de prediccion es: {} \\nConfusion Matrix:\\n {}' .format(indice_min, costo_min_error_pred, confusion_matrix[indice_min] ))\n",
    "\n",
    "    "
   ]
  },
  {
   "cell_type": "code",
   "execution_count": null,
   "metadata": {
    "collapsed": true,
    "deletable": true,
    "editable": true
   },
   "outputs": [],
   "source": []
  }
 ],
 "metadata": {
  "kernelspec": {
   "display_name": "Python 3",
   "language": "python",
   "name": "python3"
  },
  "language_info": {
   "codemirror_mode": {
    "name": "ipython",
    "version": 3
   },
   "file_extension": ".py",
   "mimetype": "text/x-python",
   "name": "python",
   "nbconvert_exporter": "python",
   "pygments_lexer": "ipython3",
   "version": "3.6.1"
  }
 },
 "nbformat": 4,
 "nbformat_minor": 2
}
